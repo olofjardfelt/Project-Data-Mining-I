{
 "cells": [
  {
   "cell_type": "code",
   "execution_count": 70,
   "metadata": {},
   "outputs": [],
   "source": [
    "import numpy as np\n",
    "import pandas as pd\n",
    "\n",
    "from functools import reduce\n",
    "\n",
    "import matplotlib.pyplot as plt"
   ]
  },
  {
   "cell_type": "markdown",
   "metadata": {},
   "source": [
    "## Data Loading\n",
    "\n",
    "Load all datasets. These may be varying in format, so we want to load and convert everything to one common format, in this case a single dataframe. "
   ]
  },
  {
   "cell_type": "code",
   "execution_count": 71,
   "metadata": {},
   "outputs": [],
   "source": [
    "DATA_PATH = 'data/'\n",
    "\n",
    "datasets = []"
   ]
  },
  {
   "cell_type": "markdown",
   "metadata": {},
   "source": [
    "#### Internet Usage Dataset"
   ]
  },
  {
   "cell_type": "code",
   "execution_count": 72,
   "metadata": {},
   "outputs": [
    {
     "name": "stdout",
     "output_type": "stream",
     "text": [
      "        Country  internet_usage\n",
      "0       Austria         87.7522\n",
      "1       Belgium         90.2754\n",
      "2      Bulgaria         67.9470\n",
      "3        Cyprus         86.0636\n",
      "4       Czechia         80.8669\n",
      "5       Germany         88.1345\n",
      "6       Denmark         98.0464\n",
      "7         Spain         90.7187\n",
      "8       Estonia         90.2289\n",
      "9       Finland         89.6074\n",
      "10       France         83.3397\n",
      "11       Greece         75.6712\n",
      "12      Croatia         79.0798\n",
      "13      Hungary         80.3717\n",
      "14      Ireland         87.0001\n",
      "15        Italy         67.8507\n",
      "16    Lithuania         81.5819\n",
      "17   Luxembourg         97.1206\n",
      "18       Latvia         86.1355\n",
      "19        Malta         85.7786\n",
      "20  Netherlands         93.2886\n",
      "21       Poland         80.4359\n",
      "22     Portugal         75.3464\n",
      "23      Romania         73.6575\n",
      "24     Slovenia         83.1084\n",
      "25       Sweden         94.4934\n"
     ]
    }
   ],
   "source": [
    "file_name = 'EU2019_internet_usage.csv'\n",
    "internet_usage_df = pd.read_csv(f'{DATA_PATH}{file_name}', skiprows=1, header=None, names=['Country', 'internet_usage'])\n",
    "datasets.append(internet_usage_df)\n",
    "\n",
    "print(internet_usage_df)"
   ]
  },
  {
   "cell_type": "markdown",
   "metadata": {},
   "source": [
    "#### Average Age of Leaving Parental Home Dataset"
   ]
  },
  {
   "cell_type": "code",
   "execution_count": 73,
   "metadata": {},
   "outputs": [
    {
     "name": "stdout",
     "output_type": "stream",
     "text": [
      "        Country  avg_age_leaving_home\n",
      "0       Austria                  25.4\n",
      "1       Belgium                  25.2\n",
      "2      Bulgaria                  30.0\n",
      "3        Cyprus                  27.1\n",
      "4       Czechia                  25.8\n",
      "5       Germany                  23.7\n",
      "6       Denmark                  21.1\n",
      "8       Estonia                  22.6\n",
      "10        Spain                  29.5\n",
      "12      Finland                  21.8\n",
      "13       France                  23.6\n",
      "14      Croatia                  31.8\n",
      "15      Hungary                  27.2\n",
      "16      Ireland                  26.8\n",
      "17        Italy                  30.1\n",
      "18    Lithuania                  25.9\n",
      "19   Luxembourg                  26.5\n",
      "20       Latvia                  26.6\n",
      "23        Malta                  29.3\n",
      "24  Netherlands                  23.7\n",
      "25       Poland                  27.1\n",
      "26     Portugal                  29.0\n",
      "27      Romania                  28.1\n",
      "29       Sweden                  17.8\n",
      "30     Slovenia                  27.7\n",
      "31     Slovakia                  30.9\n"
     ]
    }
   ],
   "source": [
    "file_name = 'EU2019_avg_age_of_leaving_parental_home.csv'\n",
    "avg_age_leaving_home_df = pd.read_csv(f'{DATA_PATH}{file_name}', skiprows=1, header=None, names=['Country', 'avg_age_leaving_home'])\n",
    "datasets.append(avg_age_leaving_home_df)\n",
    "\n",
    "print(avg_age_leaving_home_df)"
   ]
  },
  {
   "cell_type": "markdown",
   "metadata": {},
   "source": [
    "#### Unemployment Rate Dataset"
   ]
  },
  {
   "cell_type": "code",
   "execution_count": 74,
   "metadata": {},
   "outputs": [
    {
     "name": "stdout",
     "output_type": "stream",
     "text": [
      "        Country  unemployment_rate\n",
      "0        Greece          17.883330\n",
      "1         Spain          14.108330\n",
      "2         Italy           9.933333\n",
      "3        France           8.433333\n",
      "4        Sweden           6.908333\n",
      "5       Finland           6.741667\n",
      "6      Portugal           6.650000\n",
      "7        Latvia           6.316667\n",
      "8     Lithuania           6.283333\n",
      "9      Slovakia           5.716667\n",
      "10   Luxembourg           5.591667\n",
      "11      Belgium           5.366667\n",
      "12      Denmark           5.025000\n",
      "13      Ireland           5.008333\n",
      "14      Austria           4.841667\n",
      "15      Estonia           4.483333\n",
      "16     Slovenia           4.441667\n",
      "17  Netherlands           4.433333\n",
      "18  Switzerland           4.394452\n",
      "19       Norway           3.875000\n",
      "20      Hungary           3.250000\n",
      "21       Poland           3.233333\n",
      "22      Germany           2.975000\n",
      "23      Czechia           2.016667\n"
     ]
    }
   ],
   "source": [
    "file_name = 'EU2019_unemployment_rate.csv'\n",
    "unemployment_rate_df = pd.read_csv(f'{DATA_PATH}{file_name}', skiprows=1, header=None, names=['Country', 'unemployment_rate'], sep=';')\n",
    "unemployment_rate_df = unemployment_rate_df[unemployment_rate_df['unemployment_rate'] != -99]\n",
    "datasets.append(unemployment_rate_df)\n",
    "\n",
    "print(unemployment_rate_df)"
   ]
  },
  {
   "cell_type": "markdown",
   "metadata": {},
   "source": [
    "#### Gini Index Dataset"
   ]
  },
  {
   "cell_type": "code",
   "execution_count": 75,
   "metadata": {},
   "outputs": [
    {
     "name": "stdout",
     "output_type": "stream",
     "text": [
      "        Country  gini_index\n",
      "0       Austria        30.2\n",
      "1       Belgium        27.2\n",
      "2      Bulgaria        40.3\n",
      "3        Cyprus        31.2\n",
      "4       Czechia        25.3\n",
      "5       Germany        31.8\n",
      "6       Denmark        27.7\n",
      "7         Spain        34.3\n",
      "8       Estonia        30.8\n",
      "9       Finland        27.7\n",
      "10       France        31.2\n",
      "11       Greece        33.1\n",
      "12      Croatia        28.9\n",
      "13      Hungary        30.0\n",
      "14      Ireland        30.8\n",
      "15        Italy        34.6\n",
      "16    Lithuania        35.3\n",
      "17   Luxembourg        34.2\n",
      "18       Latvia        34.5\n",
      "19        Malta        31.0\n",
      "20  Netherlands        29.2\n",
      "21       Poland        28.8\n",
      "22     Portugal        32.8\n",
      "23      Romania        34.8\n",
      "24     Slovakia        23.2\n",
      "25     Slovenia        24.4\n",
      "26       Sweden        29.3\n"
     ]
    }
   ],
   "source": [
    "file_name = 'EU2019_Gini_Index.csv'\n",
    "gini_index_df = pd.read_csv(f'{DATA_PATH}{file_name}')[['Country Name', 'Gini Index 2019']].set_axis(['Country', 'gini_index'], axis=1)\n",
    "datasets.append(gini_index_df)\n",
    "\n",
    "print(gini_index_df)"
   ]
  },
  {
   "cell_type": "markdown",
   "metadata": {},
   "source": [
    "#### Suicide Rate Dataset"
   ]
  },
  {
   "cell_type": "code",
   "execution_count": 76,
   "metadata": {},
   "outputs": [
    {
     "name": "stdout",
     "output_type": "stream",
     "text": [
      "        Country  suicide_rate\n",
      "0       Ireland        9.6200\n",
      "1        Greece        5.0900\n",
      "2      Slovenia       19.7829\n",
      "3        France       13.7586\n",
      "4     Lithuania       26.1436\n",
      "5        Poland       11.3017\n",
      "6    Luxembourg       11.2655\n",
      "7       Hungary       16.6483\n",
      "8       Belgium       18.2944\n",
      "9       Croatia       16.3697\n",
      "10     Portugal       11.4600\n",
      "11  Netherlands       11.8436\n",
      "12      Austria       14.5966\n",
      "13       Latvia       20.1248\n",
      "14       Sweden       14.7410\n",
      "15      Estonia       14.8911\n",
      "16     Bulgaria        9.7300\n",
      "17      Germany       12.3139\n",
      "18        Spain        7.7200\n",
      "19      Denmark       10.6956\n",
      "20      Romania        9.7400\n",
      "21     Slovakia       12.0899\n",
      "22        Italy        6.6800\n",
      "23      Finland       15.2946\n",
      "24       Cyprus        3.6400\n",
      "25        Malta        6.0600\n",
      "26      Czechia       12.1774\n"
     ]
    }
   ],
   "source": [
    "file_name = 'EU2019_suicide_rates.csv'\n",
    "suicide_rate_df = pd.read_csv(f'{DATA_PATH}{file_name}', skiprows=1, header=None, names=['Country', 'suicide_rate'])\n",
    "datasets.append(suicide_rate_df)\n",
    "\n",
    "print(suicide_rate_df)"
   ]
  },
  {
   "cell_type": "markdown",
   "metadata": {},
   "source": [
    "### Combine datasets"
   ]
  },
  {
   "cell_type": "code",
   "execution_count": 78,
   "metadata": {},
   "outputs": [
    {
     "name": "stdout",
     "output_type": "stream",
     "text": [
      "(29, 6)\n",
      "        Country  internet_usage  avg_age_leaving_home  unemployment_rate  \\\n",
      "0       Austria         87.7522                  25.4           4.841667   \n",
      "1       Belgium         90.2754                  25.2           5.366667   \n",
      "2      Bulgaria         67.9470                  30.0                NaN   \n",
      "3       Croatia         79.0798                  31.8                NaN   \n",
      "4        Cyprus         86.0636                  27.1                NaN   \n",
      "5       Czechia         80.8669                  25.8           2.016667   \n",
      "6       Denmark         98.0464                  21.1           5.025000   \n",
      "7       Estonia         90.2289                  22.6           4.483333   \n",
      "8       Finland         89.6074                  21.8           6.741667   \n",
      "9        France         83.3397                  23.6           8.433333   \n",
      "10      Germany         88.1345                  23.7           2.975000   \n",
      "11       Greece         75.6712                   NaN          17.883330   \n",
      "12      Hungary         80.3717                  27.2           3.250000   \n",
      "13      Ireland         87.0001                  26.8           5.008333   \n",
      "14        Italy         67.8507                  30.1           9.933333   \n",
      "15       Latvia         86.1355                  26.6           6.316667   \n",
      "16    Lithuania         81.5819                  25.9           6.283333   \n",
      "17   Luxembourg         97.1206                  26.5           5.591667   \n",
      "18        Malta         85.7786                  29.3                NaN   \n",
      "19  Netherlands         93.2886                  23.7           4.433333   \n",
      "20       Norway             NaN                   NaN           3.875000   \n",
      "21       Poland         80.4359                  27.1           3.233333   \n",
      "22     Portugal         75.3464                  29.0           6.650000   \n",
      "23      Romania         73.6575                  28.1                NaN   \n",
      "24     Slovakia             NaN                  30.9           5.716667   \n",
      "25     Slovenia         83.1084                  27.7           4.441667   \n",
      "26        Spain         90.7187                  29.5          14.108330   \n",
      "27       Sweden         94.4934                  17.8           6.908333   \n",
      "28  Switzerland             NaN                   NaN           4.394452   \n",
      "\n",
      "    gini_index  suicide_rate  \n",
      "0         30.2       14.5966  \n",
      "1         27.2       18.2944  \n",
      "2         40.3        9.7300  \n",
      "3         28.9       16.3697  \n",
      "4         31.2        3.6400  \n",
      "5         25.3       12.1774  \n",
      "6         27.7       10.6956  \n",
      "7         30.8       14.8911  \n",
      "8         27.7       15.2946  \n",
      "9         31.2       13.7586  \n",
      "10        31.8       12.3139  \n",
      "11        33.1        5.0900  \n",
      "12        30.0       16.6483  \n",
      "13        30.8        9.6200  \n",
      "14        34.6        6.6800  \n",
      "15        34.5       20.1248  \n",
      "16        35.3       26.1436  \n",
      "17        34.2       11.2655  \n",
      "18        31.0        6.0600  \n",
      "19        29.2       11.8436  \n",
      "20         NaN           NaN  \n",
      "21        28.8       11.3017  \n",
      "22        32.8       11.4600  \n",
      "23        34.8        9.7400  \n",
      "24        23.2       12.0899  \n",
      "25        24.4       19.7829  \n",
      "26        34.3        7.7200  \n",
      "27        29.3       14.7410  \n",
      "28         NaN           NaN  \n"
     ]
    }
   ],
   "source": [
    "data_df = reduce(lambda l, r: pd.merge(l, r, on='Country', how='outer'), datasets)\n",
    "\n",
    "print(data_df.shape)\n",
    "print(data_df)"
   ]
  },
  {
   "cell_type": "markdown",
   "metadata": {},
   "source": [
    "## Data Pre-Processing"
   ]
  },
  {
   "cell_type": "code",
   "execution_count": null,
   "metadata": {},
   "outputs": [],
   "source": []
  }
 ],
 "metadata": {
  "kernelspec": {
   "display_name": "DataMining",
   "language": "python",
   "name": "python3"
  },
  "language_info": {
   "codemirror_mode": {
    "name": "ipython",
    "version": 3
   },
   "file_extension": ".py",
   "mimetype": "text/x-python",
   "name": "python",
   "nbconvert_exporter": "python",
   "pygments_lexer": "ipython3",
   "version": "3.9.19"
  }
 },
 "nbformat": 4,
 "nbformat_minor": 2
}
